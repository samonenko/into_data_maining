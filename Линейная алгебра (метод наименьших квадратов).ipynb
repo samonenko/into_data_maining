{
 "cells": [
  {
   "cell_type": "markdown",
   "metadata": {},
   "source": [
    "## Метод неопределенных коэффициентов\n",
    "Необходимо найти полином вида\n",
    "$$\n",
    "f(x) = a_0 +  a_1x^1 + \\dots + a_{n-1}x^{n-1} + a_nx^n \n",
    "$$\n",
    "который проходит через заданное множество точек $(x_0,y_0)$, $(x_1,y_1)$, ...,$(x_n,y_n)$. Если степень полинома $n$, то точек $n+1$, такое же, как и количество коэффициентов в полиноме $a_0$, ..., $a_n$.\n",
    "\n",
    "По заданным точкам  $(x_0,y_0)$, ...,$(x_n,y_n)$ нам необходимо определить $a_0$, ..., $a_n$.\n",
    "Подставим каждую из точке в полином и получим систему линейных уравнений относительно неизвестных $a_0$, ..., $a_n$.\n",
    "$$\n",
    "\\left\\{\n",
    "\\begin{matrix}\n",
    "a_0 +  a_1x_0^1 + \\dots + a_{n-1}x_0^{n-1} + a_nx_0^n = y_0 \\\\\n",
    "a_0 +  a_1x_1^1 + \\dots + a_{n-1}x_1^{n-1} + a_nx_1^n  = y_1 \\\\\n",
    "\\vdots \\\\\n",
    "a_0 +  a_1x_n^1 + \\dots + a_{n-1}x_n^{n-1} + a_nx_n^n  = y_n \\\\\n",
    "\\end{matrix}\n",
    "\\right.\n",
    "$$\n",
    "\n",
    "Обращаем Ваше внимание, что в данной системе $x_i^j$ и $y_i$- конкретные известные нам числа, а неизвестными являются $a_i$.\n",
    "В матричном виде данная система выглядит следующим образом:\n",
    "\n",
    "$$\n",
    "\\begin{pmatrix}\n",
    "1 & x_0^1 & \\dots &  x_0^{n-1} &  x_0^n \\\\\n",
    "1 & x_1^1 & \\dots &  x_1^{n-1} &  x_1^n \\\\\n",
    "\\vdots \\\\\n",
    "1 & x_n^1 & \\dots &  x_n^{n-1} &  x_n^n \\\\\n",
    "\\end{pmatrix}\n",
    "\\begin{pmatrix}\n",
    "a_0 \\\\\n",
    "a_1 \\\\\n",
    "\\vdots \\\\\n",
    "a_{n} \\\\\n",
    "\\end{pmatrix}\n",
    "=\n",
    "\\begin{pmatrix}\n",
    "y_0 \\\\\n",
    "y_1 \\\\\n",
    "\\vdots \\\\\n",
    "y_{n} \\\\\n",
    "\\end{pmatrix}\n",
    "$$"
   ]
  },
  {
   "cell_type": "markdown",
   "metadata": {},
   "source": [
    "## Пример для $n=3$\n"
   ]
  },
  {
   "cell_type": "code",
   "execution_count": 8,
   "metadata": {},
   "outputs": [
    {
     "data": {
      "image/png": "[encoded data removed]",
      "text/plain": [
       "<Figure size 432x288 with 1 Axes>"
      ]
     },
     "metadata": {
      "needs_background": "light"
     },
     "output_type": "display_data"
    }
   ],
   "source": [
    "import numpy as np\n",
    "import matplotlib.pyplot as plt\n",
    "\n",
    "X = np.array([1,4,5])\n",
    "Y = np.array([2,3,1])\n",
    "R = np.array([\n",
    "    [1,  X[0], X[0]**2],\n",
    "    [1,  X[1], X[1]**2],\n",
    "    [1,  X[2], X[2]**2],\n",
    "    \n",
    "])\n",
    "A = np.linalg.solve(R,Y)\n",
    "\n",
    "linsp  = np.linspace(X.min(), X.max())  # Множество значений от X.min() до X.max() (с шагом 50 по умолчанию)\n",
    "fun = A[0] + (A[1] + A[2]*linsp)*linsp # Расчет значений во всех точках linsp (по схеме Горнера) \n",
    "plt.plot(linsp,fun);\n",
    "plt.plot(X,Y, 'ro');\n",
    "plt.grid(True)"
   ]
  },
  {
   "cell_type": "markdown",
   "metadata": {},
   "source": [
    "## Задание 1\n",
    "Реализуйте данную задачу для $n=5$"
   ]
  },
  {
   "cell_type": "code",
   "execution_count": 9,
   "metadata": {},
   "outputs": [],
   "source": [
    "import numpy as np\n",
    "import matplotlib.pyplot as plt\n",
    "\n",
    "X = np.array([1,2,3,4,5])\n",
    "Y = np.array([2,3,1,-1,2])\n",
    "# ¯\\_(ツ)_/¯"
   ]
  },
  {
   "cell_type": "markdown",
   "metadata": {},
   "source": [
    "## Некоторые функции numpy для упрощения работы"
   ]
  },
  {
   "cell_type": "code",
   "execution_count": 3,
   "metadata": {},
   "outputs": [
    {
     "name": "stdout",
     "output_type": "stream",
     "text": [
      "A = [ 1  2  4  8 16 32 64]\n",
      "------------------------------\n",
      "B =  [  1   3   9  27  81 243 729]\n",
      "------------------------------\n",
      "Вертикальная склейка матриц A и В\n",
      "[[  1   2   4   8  16  32  64]\n",
      " [  1   3   9  27  81 243 729]]\n"
     ]
    }
   ],
   "source": [
    "A = np.power(2, range(7))\n",
    "print('A =',A)\n",
    "B = np.power(3, range(7))\n",
    "print('-'*30)\n",
    "print('B = ',B)\n",
    "C = np.vstack([A,B])\n",
    "print('-'*30)\n",
    "print('Вертикальная склейка матриц A и В') \n",
    "print(C)"
   ]
  },
  {
   "cell_type": "markdown",
   "metadata": {},
   "source": [
    "## Задание 2\n",
    "Пользуясь приведенными выше функциями реализуйте задачу для проивольного $n$"
   ]
  },
  {
   "cell_type": "code",
   "execution_count": 4,
   "metadata": {},
   "outputs": [
    {
     "data": {
      "image/png": "[encoded data removed]",
      "text/plain": [
       "<Figure size 432x288 with 1 Axes>"
      ]
     },
     "metadata": {
      "needs_background": "light"
     },
     "output_type": "display_data"
    }
   ],
   "source": [
    "n = 7\n",
    "X = np.array(range(n))\n",
    "Y = np.zeros(n)\n",
    "for i in range(n):\n",
    "    Y[i] = i*(-1)**i + i**2\n",
    "\n",
    "A = np.power(X[0], range(n))\n",
    "for i in range(1,n):\n",
    "    A = np.vstack([A,np.power(X[i], range(n))])\n",
    "R = np.linalg.solve(A,Y)\n",
    "\n",
    "linsp  = np.linspace(X.min(), X.max())\n",
    "fun = R[n-1]\n",
    "for i in range(n-2,-1,-1):\n",
    "    fun = fun*linsp + R[i]\n",
    "plt.plot(linsp,fun);\n",
    "plt.plot(X,Y, 'ro');\n",
    "plt.grid(True)\n",
    "# ¯\\_(ツ)_/¯"
   ]
  },
  {
   "cell_type": "markdown",
   "metadata": {},
   "source": [
    "## Метод наименьших квадратов\n",
    "\n",
    "http://setosa.io/ev/ordinary-least-squares-regression/\n",
    "\n",
    "Рассмотрим четыре точки $(0, -1)$, $(0,1)$, $(3,2)$ и $(3,4)$. Очевидно, что эти точки не лежат на одной прямой, тем не менее попытаемся найти прямую вида $y = kx + l$, которая проходила бы через все эти точки.\n",
    "\n",
    "Запишем сисему:\n",
    "$$\n",
    "\\left\\{\n",
    "\\begin{matrix}\n",
    "k \\cdot 0 + l = -1 \\\\\n",
    "k \\cdot 0 + l = 1 \\\\\n",
    "k \\cdot 3 + l = 2 \\\\\n",
    "k \\cdot 3 + l = 4 \\\\\n",
    "\\end{matrix}\n",
    "\\right.\n",
    "$$\n",
    "\n",
    "Или в матричном виде:\n",
    "$$\n",
    "\\begin{pmatrix}\n",
    "0 & 1 \\\\\n",
    "0 & 1 \\\\\n",
    "3 & 1 \\\\\n",
    "3 & 1 \\\\\n",
    "\\end{pmatrix}\n",
    "\\begin{pmatrix}\n",
    "k \\\\\n",
    "l\n",
    "\\end{pmatrix}\n",
    "=\n",
    "\\begin{pmatrix}\n",
    "-1 \\\\\n",
    "1 \\\\\n",
    "2 \\\\\n",
    "4 \\\\\n",
    "\\end{pmatrix}\n",
    "$$\n",
    "\n",
    "Или в общем виде:\n",
    "$$\n",
    "AX=B\n",
    "$$\n",
    "\n",
    "Оказывается, что \"решение\" данной системы методом наименьших квадратов может быть найдено, если данное равенство умножить слева на $A^t$, т.е.\n",
    "$$\n",
    "A^tAX=A^tB\n",
    "$$\n",
    "\n",
    "В нашем случае мы получаем:\n",
    "$$\n",
    "\\begin{pmatrix}\n",
    "0 & 0 & 3 & 3 \\\\\n",
    "1 & 1 & 1 & 1\n",
    "\\end{pmatrix}\n",
    "\\begin{pmatrix}\n",
    "0 & 1 \\\\\n",
    "0 & 1 \\\\\n",
    "3 & 1 \\\\\n",
    "3 & 1 \\\\\n",
    "\\end{pmatrix}\n",
    "\\begin{pmatrix}\n",
    "k \\\\\n",
    "l\n",
    "\\end{pmatrix}\n",
    "=\n",
    "\\begin{pmatrix}\n",
    "0 & 0 & 3 & 3 \\\\\n",
    "1 & 1 & 1 & 1\n",
    "\\end{pmatrix}\n",
    "\\begin{pmatrix}\n",
    "-1 \\\\\n",
    "1 \\\\\n",
    "2 \\\\\n",
    "4 \\\\\n",
    "\\end{pmatrix}\n",
    "$$\n",
    "\n",
    "Умножаем матрицы:\n",
    "\n",
    "$$\n",
    "\\begin{pmatrix}\n",
    "18 & 6\\\\\n",
    "6 & 4 \n",
    "\\end{pmatrix}\n",
    "\\begin{pmatrix}\n",
    "k \\\\\n",
    "l\n",
    "\\end{pmatrix}\n",
    "=\n",
    "\\begin{pmatrix}\n",
    "18 \\\\\n",
    "6 \\\\\n",
    "\\end{pmatrix}\n",
    "$$\n",
    "\n",
    "Откуда получаем решение $k = 1$, $l=0$ системы и искомую прямую\n",
    "$$\n",
    "y = 1 \\cdot x + 0.\n",
    "$$"
   ]
  },
  {
   "cell_type": "code",
   "execution_count": null,
   "metadata": {},
   "outputs": [],
   "source": []
  },
  {
   "cell_type": "code",
   "execution_count": 5,
   "metadata": {},
   "outputs": [
    {
     "name": "stdout",
     "output_type": "stream",
     "text": [
      "Решение через lstsq дает: [1.00000000e+00 4.28158246e-16]\n",
      "Решение через умножение на A.T дает: [1. 0.]\n"
     ]
    },
    {
     "data": {
      "image/png": "[encoded data removed]",
      "text/plain": [
       "<Figure size 432x288 with 1 Axes>"
      ]
     },
     "metadata": {
      "needs_background": "light"
     },
     "output_type": "display_data"
    }
   ],
   "source": [
    "import numpy as np\n",
    "import matplotlib.pyplot as plt\n",
    "\n",
    "x = np.array([0, 0, 3, 3])\n",
    "y = np.array([-1, 1, 4, 2])\n",
    "A = np.vstack([x, np.ones(len(x))]).T\n",
    "R = np.linalg.lstsq(A,y,rcond=None)[0]\n",
    "print('Решение через lstsq дает:', R)\n",
    "\n",
    "P = A.T.dot(A)\n",
    "q = A.T.dot(y)\n",
    "L = np.linalg.inv(P).dot(q)\n",
    "print('Решение через умножение на A.T дает:', L)\n",
    "\n",
    "plt.plot(x,y,'ro');\n",
    "\n",
    "lin = np.linspace(-1, 5)\n",
    "plt.plot(lin,R[0]*lin+R[1]);\n",
    "plt.axis([-1,5,-5,5]);\n",
    "plt.axis('equal');\n",
    "plt.grid(True)\n"
   ]
  },
  {
   "cell_type": "markdown",
   "metadata": {},
   "source": [
    "### Задание 3\n",
    "\n",
    "При помощи метода наименьших квадратов найти функцию вида \n",
    "$$\n",
    "y = ax^2 + bx + c,\n",
    "$$\n",
    "которая ниболее близко располагается между пяти заданных точек."
   ]
  },
  {
   "cell_type": "code",
   "execution_count": 6,
   "metadata": {},
   "outputs": [],
   "source": [
    "x = np.array([0, 0, 3, 3, 5])\n",
    "y = np.array([-1, 1, 4, 2, 2])\n",
    "# ¯\\_(ツ)_/¯"
   ]
  },
  {
   "cell_type": "markdown",
   "metadata": {},
   "source": [
    "## Задание 4\n",
    "Реализуйте метод наименьших квадратов для произвольного многочлена степени $d$ и произвольного множества точке, мощности $n$"
   ]
  },
  {
   "cell_type": "code",
   "execution_count": 7,
   "metadata": {},
   "outputs": [],
   "source": [
    "n = 7\n",
    "X = np.array(range(n))\n",
    "Y = np.zeros(n)\n",
    "for i in range(n):\n",
    "    Y[i] = i*(-1)**i + i**2\n",
    "# ¯\\_(ツ)_/¯\n"
   ]
  },
  {
   "cell_type": "code",
   "execution_count": null,
   "metadata": {},
   "outputs": [],
   "source": []
  }
 ],
 "metadata": {
  "kernelspec": {
   "display_name": "Python 3",
   "language": "python",
   "name": "python3"
  },
  "language_info": {
   "codemirror_mode": {
    "name": "ipython",
    "version": 3
   },
   "file_extension": ".py",
   "mimetype": "text/x-python",
   "name": "python",
   "nbconvert_exporter": "python",
   "pygments_lexer": "ipython3",
   "version": "3.6.6"
  }
 },
 "nbformat": 4,
 "nbformat_minor": 2
}
