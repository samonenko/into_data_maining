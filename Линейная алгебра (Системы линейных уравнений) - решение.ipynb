{
 "cells": [
  {
   "cell_type": "markdown",
   "metadata": {},
   "source": [
    "# Линейная алгебра. Системы линейных уравнений#\n"
   ]
  },
  {
   "cell_type": "markdown",
   "metadata": {},
   "source": [
    "## Умножение матриц"
   ]
  },
  {
   "cell_type": "markdown",
   "metadata": {
    "hide_input": false
   },
   "source": [
    "Визуализация умножения матриц: http://matrixmultiplication.xyz/"
   ]
  },
  {
   "cell_type": "markdown",
   "metadata": {},
   "source": [
    "## Обратная матрица"
   ]
  },
  {
   "cell_type": "markdown",
   "metadata": {},
   "source": [
    "Матрица $E_n$ размера $n \\times n$ вида \n",
    "$$\n",
    "E_n = \\begin{pmatrix}\n",
    "1 & 0 & 0 & \\dots & 0 & 0 \\\\\n",
    "0 & 1 & 0 & \\dots & 0 & 0 \\\\\n",
    "0 & 0 & 1 & \\dots & 0 & 0 \\\\\n",
    "\\vdots & \\vdots & \\vdots & \\ddots & \\vdots & \\vdots\\\\\n",
    "0 & 0 & 0 & \\dots & 1 & 0 \\\\\n",
    "0 & 0 & 0 & \\dots & 0 & 1 \\\\\n",
    "\\end{pmatrix}\n",
    "$$\n",
    "называется единичной. \n",
    "Матрица $B$ (размера $n \\times n$) называется обратной к матрице $A$ (размера $n \\times n$), если \n",
    "$$\n",
    "A \\cdot B = B \\cdot A = E_n\n",
    "$$"
   ]
  },
  {
   "cell_type": "code",
   "execution_count": null,
   "metadata": {},
   "outputs": [],
   "source": []
  },
  {
   "cell_type": "code",
   "execution_count": 1,
   "metadata": {},
   "outputs": [],
   "source": [
    "import numpy as np\n",
    "\n",
    "A = np.array([\n",
    "    [1,1,2],\n",
    "    [1,2,4],\n",
    "    [2,2,0]\n",
    "])\n",
    "B = np.linalg.inv(A)\n",
    "\n",
    "np.set_printoptions(suppress=True) #Не печатать числа в виде 1.11022302e-16\n",
    "print(B)\n",
    "C = A.dot(B)\n",
    "print(C)"
   ]
  },
  {
   "cell_type": "markdown",
   "metadata": {},
   "source": [
    "## Определитель матрицы \n",
    "\n",
    "Определителем квадратной матрицы $A$ размера $n \\times n$ назвается некоторое число, которое рассчитывается по всем элементам матрицы. На данном занятии нам не так важно, как конкретно это чило надо находить. Достаточно лишь знать, что:\n",
    "\n",
    "1) У всякой квадратной матрицы можно найти определитель - конкретное число.\n",
    "\n",
    "2) Определитель можно найти при помощи np.linalg.det(A)\n"
   ]
  },
  {
   "cell_type": "code",
   "execution_count": 9,
   "metadata": {},
   "outputs": [
    {
     "name": "stdout",
     "output_type": "stream",
     "text": [
      "1.0 1.0\n",
      "2.0 0.5\n",
      "0.5 2.0\n",
      "10.000000000000002 0.09999999999999998\n"
     ]
    }
   ],
   "source": [
    "import numpy as np\n",
    "\n",
    "A =  np.array([\n",
    "    [1,0],\n",
    "    [0,1]\n",
    "])\n",
    "print(np.linalg.det(A), np.linalg.det(np.linalg.inv(A))) # Определители исходной и обратной матрицы\n",
    "\n",
    "A =  np.array([\n",
    "    [1,1],\n",
    "    [0,2]\n",
    "])\n",
    "print(np.linalg.det(A), np.linalg.det(np.linalg.inv(A))) # Определители исходной и обратной матрицы\n",
    "\n",
    "A =  np.array([\n",
    "    [1,1],\n",
    "    [0.5,1]\n",
    "])\n",
    "print(np.linalg.det(A), np.linalg.det(np.linalg.inv(A))) # Определители исходной и обратной матрицы\n",
    "\n",
    "A =  np.array([\n",
    "    [2,-2],\n",
    "    [3,2]\n",
    "])\n",
    "print(np.linalg.det(A), np.linalg.det(np.linalg.inv(A))) # Определители исходной и обратной матрицы"
   ]
  },
  {
   "cell_type": "markdown",
   "metadata": {},
   "source": [
    "## Задание 1\n",
    "1) Как связаны определитель исходной и обратной матрицы?\n",
    "\n",
    "¯\\\\_(ツ)_/¯\n",
    "\n",
    "2) Сформулируйте критерий, когда обратная матрица существует в зависимости от значения ее определителя?\n",
    "\n",
    "¯\\\\_(ツ)_/¯"
   ]
  },
  {
   "cell_type": "markdown",
   "metadata": {},
   "source": [
    "## Построение прямой по двум точкам\n",
    "Необходмо найти уравнение прямой вида \n",
    "$$\n",
    "y = kx + l,\n",
    "$$\n",
    "\n",
    "которая проходит через две заданные точки $P_1=(x_1, y_1)$ и $P_2=(x_2, y_2)$.\n",
    "\n",
    "Решаем систему урвнений вида:\n",
    "$$\n",
    "\\left\\{\n",
    "\\begin{matrix}\n",
    "kx_1 + l = y_1 \\\\\n",
    "kx_2 + l = y_2\n",
    "\\end{matrix}\n",
    "\\right.\n",
    "$$\n",
    "\n",
    "или в матричном виде:\n",
    "\n",
    "$$\n",
    "\\begin{pmatrix}\n",
    "x_1 & 1 \\\\\n",
    "x_2 & 1\n",
    "\\end{pmatrix}\n",
    "\\begin{pmatrix}\n",
    "k \\\\\n",
    "l\n",
    "\\end{pmatrix}\n",
    "=\n",
    "\\begin{pmatrix}\n",
    "y_1 \\\\\n",
    "y_2\n",
    "\\end{pmatrix}\n",
    "$$\n",
    "\n",
    "Тогда решение можно найти в виде:\n",
    "$$\n",
    "\\begin{pmatrix}\n",
    "k \\\\\n",
    "l\n",
    "\\end{pmatrix}\n",
    "=\n",
    "\\begin{pmatrix}\n",
    "x_1 & 1 \\\\\n",
    "x_2 & 1\n",
    "\\end{pmatrix}^{-1}\n",
    "\\begin{pmatrix}\n",
    "y_1 \\\\\n",
    "y_2\n",
    "\\end{pmatrix}\n",
    "$$"
   ]
  },
  {
   "cell_type": "code",
   "execution_count": 10,
   "metadata": {},
   "outputs": [
    {
     "name": "stdout",
     "output_type": "stream",
     "text": [
      "[[ 2.  1.]\n",
      " [-2.  1.]]\n",
      "[0 4]\n"
     ]
    },
    {
     "data": {
      "image/png": "[encoded data removed]",
      "text/plain": [
       "<Figure size 432x288 with 1 Axes>"
      ]
     },
     "metadata": {
      "needs_background": "light"
     },
     "output_type": "display_data"
    }
   ],
   "source": [
    "import numpy as np\n",
    "import matplotlib.pyplot as plt\n",
    "\n",
    "def line_by_points(P1, P2):\n",
    "    X = np.array([P1[0],P2[0]])\n",
    "    Y = np.array([P1[1],P2[1]])\n",
    "    A = np.vstack([X, np.ones(2)]).T # Склейка матриц\n",
    "    print(A, Y, sep = '\\n')\n",
    "    \n",
    "    K = np.linalg.solve(A,Y) \n",
    "    #K = np.linalg.inv(A).dot(Y) # В явном виде через обрантую матрицу\n",
    "    # Замечание: Формально Y в обоих вариантах должен быть столбцом, а не строкой, но функции и так работают правильно.\n",
    "    \n",
    "    return K\n",
    "\n",
    "P1 = [2,0]\n",
    "P2 = [-2,4]\n",
    "K = line_by_points(P1,P2)\n",
    "x = np.linspace(-5,5) # Множество значений от -5 до +5 (с шагом 50 по умолчанию)\n",
    "y = K[0]*x + K[1]\n",
    "plt.plot(x,y, '.') # Строим график прямой\n",
    "# plt.plot(x,y ) # Строим график прямой, соединяя точки\n",
    "plt.plot(*P1,'ro') # Рисуем красную (r) точку (o)\n",
    "plt.plot(*P2,'go') # Рисуем зеленую (g) точку (o)\n",
    "plt.axis([-5, 5, -5, 5]) # Устанавливаем масштабы осей\n",
    "plt.grid(True) # Отображаем сетку"
   ]
  },
  {
   "cell_type": "markdown",
   "metadata": {},
   "source": [
    "## Задание 2\n",
    "Для трех точек $P_1=(x_1, y_1)$, $P_2=(x_2, y_2)$ и $P_3=(x_3, y_3)$ постройте и нарисуйте прямые, которые проходят через каждую пару точек. Известно, что все $y_i$ различны."
   ]
  },
  {
   "cell_type": "code",
   "execution_count": 4,
   "metadata": {},
   "outputs": [],
   "source": [
    "# ¯\\_(ツ)_/¯"
   ]
  },
  {
   "cell_type": "markdown",
   "metadata": {},
   "source": [
    "## Точка пересечения прямых\n",
    "\n",
    "Для двух прямых $y = k_1x + l_1$ и $y = k_2x + l_2$ необходимо найти точку их пересечения, т.е. решить систему \n",
    "$$\n",
    "\\left\\{\n",
    "\\begin{matrix}\n",
    "k_1x - y =  -l_1\\\\\n",
    "k_2x - y = -l_2\n",
    "\\end{matrix}\n",
    "\\right.\n",
    "$$\n",
    "Запишем в матричном виде:\n",
    "$$\n",
    "\\begin{pmatrix}\n",
    "k_1 & -1 \\\\\n",
    "k_2 & -1 \n",
    "\\end{pmatrix}\n",
    "\\begin{pmatrix}\n",
    "x \\\\\n",
    "y\n",
    "\\end{pmatrix}\n",
    "=\n",
    "\\begin{pmatrix}\n",
    "-l_1 \\\\\n",
    "-l_2\n",
    "\\end{pmatrix}\n",
    "$$\n",
    "Тогда решением будет:\n",
    "$$\n",
    "\\begin{pmatrix}\n",
    "x \\\\\n",
    "y\n",
    "\\end{pmatrix}\n",
    "=\n",
    "\\begin{pmatrix}\n",
    "k_1 & -1 \\\\\n",
    "k_2 & -1 \n",
    "\\end{pmatrix} ^{-1}\n",
    "\\begin{pmatrix}\n",
    "-l_1 \\\\\n",
    "-l_2\n",
    "\\end{pmatrix}\n",
    "$$"
   ]
  },
  {
   "cell_type": "code",
   "execution_count": 5,
   "metadata": {},
   "outputs": [
    {
     "name": "stdout",
     "output_type": "stream",
     "text": [
      "[0.66666667 0.33333333]\n"
     ]
    },
    {
     "data": {
      "image/png": "[encoded data removed]",
      "text/plain": [
       "<Figure size 432x288 with 1 Axes>"
      ]
     },
     "metadata": {
      "needs_background": "light"
     },
     "output_type": "display_data"
    }
   ],
   "source": [
    "import numpy as np\n",
    "import matplotlib.pyplot as plt\n",
    "\n",
    "def point_by_lines(R1, R2):\n",
    "    K = np.array([R1[0],R2[0]])\n",
    "    L = np.array([R1[1],R2[1]])\n",
    "    A = np.vstack([K,-np.ones(2)]).T\n",
    "    D = np.linalg.solve(A,-L)\n",
    "    return D\n",
    "\n",
    "    \n",
    "R1 = [2,-1] # y = 2x - 1\n",
    "R2 = [-1,1] # y = -x + 1\n",
    "\n",
    "\n",
    "x = np.linspace(-5,5)\n",
    "plt.plot(x,R1[0]*x + R1[1]);\n",
    "plt.plot(x,R2[0]*x + R2[1]);\n",
    "\n",
    "D  = point_by_lines(R1, R2)\n",
    "print(D)\n",
    "plt.plot(*D,'ro')\n",
    "\n",
    "plt.axis([-5, 5, -5, 5]);\n",
    "plt.grid(True)\n"
   ]
  },
  {
   "cell_type": "markdown",
   "metadata": {},
   "source": [
    "## Задание 3\n",
    "Для трех прямых $y = k_1x + l_1$, $y = k_2x + l_2$ и $y = k_3x + l_3$ необходимо найти все точки их пересечения, наприсовать прямые и точки. Известно, что прямые любые две прямые не параллельны"
   ]
  },
  {
   "cell_type": "code",
   "execution_count": 6,
   "metadata": {},
   "outputs": [],
   "source": [
    "# ¯\\_(ツ)_/¯"
   ]
  },
  {
   "cell_type": "markdown",
   "metadata": {},
   "source": [
    "## Исследование семейства линейных уравнений (1)\n",
    "Рассмотрим семейство систем линейных уравнений при $3 \\leq n \\leq 30$\n",
    "$$\n",
    "\\left\\{\\begin{matrix}\n",
    "x_1 + x_2 = 1 \\\\\n",
    "x_2 + x_3 = 2 \\\\\n",
    "... \\\\\n",
    "x_{n-1} + x_{n} = n-1 \\\\\n",
    "x_{n} + x_{1} = n \\\\\n",
    "\\end{matrix}\\right.\n",
    "$$"
   ]
  },
  {
   "cell_type": "markdown",
   "metadata": {},
   "source": [
    "## Задание 4\n",
    "1. Определение, при каких $n$ ($3 \\leq n \\leq 30$) данная система имеет решение. Указание: Если правая часть системы ненулевая, \n",
    "    т.е. не состоит из одних 0 (как в данном случае), то система имеет решение тогда и только тогда, \n",
    "    когда определитель матрицы не равен нулю.\n",
    "2. Для максимального $n$, при котором система имеет решение, найдите решение и отобразите их на плоском графике как множество точек $(i, x_i)$\n",
    "3. Проаналзируйте график и запишите множетсво решений в виде явной формулы."
   ]
  },
  {
   "cell_type": "code",
   "execution_count": 7,
   "metadata": {},
   "outputs": [],
   "source": [
    "n = 3\n",
    "A = np.zeros((n,n))\n",
    "B = np.array(range(1,n+1))\n",
    "for i in range(n):\n",
    "    pass # Заполнить матрцу А\n",
    "# ¯\\_(ツ)_/¯"
   ]
  },
  {
   "cell_type": "markdown",
   "metadata": {},
   "source": [
    "1. Система имеет решение при $n$ - ...\n",
    "2. Максимальное значение $n$ ($3 \\leq n \\leq 30$), при котором система имеет решение равно ...\n",
    "\n",
    "Данное решение имеет вид:\n",
    "$$\n",
    "x_i = \n",
    "\\left\\{\\begin{matrix}\n",
    "..., \\mbox{ если $i$ - ... } \\\\\n",
    "..., \\mbox{ если $i$ - ...} \n",
    "\\end{matrix}\n",
    "\\right.\n",
    "$$"
   ]
  },
  {
   "cell_type": "code",
   "execution_count": 8,
   "metadata": {},
   "outputs": [
    {
     "name": "stdout",
     "output_type": "stream",
     "text": [
      "[ 7.5  8.5  9.5 10.5 11.5 12.5 13.5 14.5 15.5 16.5 17.5 18.5 19.5 20.5\n",
      " 21.5]\n",
      "[-6.5 -5.5 -4.5 -3.5 -2.5 -1.5 -0.5  0.5  1.5  2.5  3.5  4.5  5.5  6.5]\n"
     ]
    },
    {
     "data": {
      "image/png": "[encoded data removed]",
      "text/plain": [
       "<Figure size 432x288 with 1 Axes>"
      ]
     },
     "metadata": {
      "needs_background": "light"
     },
     "output_type": "display_data"
    }
   ],
   "source": [
    "import numpy as np\n",
    "import matplotlib.pyplot as plt\n",
    "\n",
    "def create_matrix(n):\n",
    "    a = np.zeros((n,n))\n",
    "    for i in range(n):\n",
    "            a[i][i] = 1\n",
    "            a[i][(i+1)%n] = 1\n",
    "    return a\n",
    "\n",
    "def test_det():\n",
    "    for n in range(3,31):\n",
    "        A = create_matrix(n)\n",
    "        print(n, np.linalg.det(A))\n",
    "\n",
    "def print_solution(n):\n",
    "    assert n % 2 != 0\n",
    "    A = create_matrix(n)\n",
    "    B = np.array(range(1,n+1))\n",
    "    X = np.linalg.solve(A,B)\n",
    "    print(X[::2])\n",
    "    print(X[1::2])\n",
    "    plt.plot(X,'o');\n",
    "    plt.grid(True);\n",
    "\n",
    "print_solution(29)"
   ]
  },
  {
   "cell_type": "markdown",
   "metadata": {},
   "source": [
    "$$\n",
    "x_i = \n",
    "\\left\\{\\begin{matrix}\n",
    "7 + 0.5 \\cdot i, \\mbox{ если $i$ - нечетно}\\\\\n",
    "-7.5 + 0.5 \\cdot i, \\mbox{ если $i$ - четно}\\\\\n",
    "\\end{matrix}\n",
    "\\right.\n",
    "$$"
   ]
  },
  {
   "cell_type": "markdown",
   "metadata": {},
   "source": [
    "## Задание 5\n",
    "Проведите аналогичное исследование для семейства систем линейных уравнений при $3 \\leq n \\leq 30$\n",
    "$$\n",
    "\\left\\{\\begin{matrix}\n",
    "x_1 + x_2 + x_3= 1 \\\\\n",
    "x_2 + x_3 + x_4= 2 \\\\\n",
    "... \\\\\n",
    "x_{n-2} + x_{n-1} + x_{n}= n-2 \\\\\n",
    "x_{n-1} + x_{n} + x_{1}= n-1 \\\\\n",
    "x_{n} + x_{1} + x_{2}= n \\\\\n",
    "\\end{matrix}\\right.\n",
    "$$"
   ]
  },
  {
   "cell_type": "markdown",
   "metadata": {},
   "source": [
    "\n"
   ]
  }
 ],
 "metadata": {
  "kernelspec": {
   "display_name": "Python 3",
   "language": "python",
   "name": "python3"
  },
  "language_info": {
   "codemirror_mode": {
    "name": "ipython",
    "version": 3
   },
   "file_extension": ".py",
   "mimetype": "text/x-python",
   "name": "python",
   "nbconvert_exporter": "python",
   "pygments_lexer": "ipython3",
   "version": "3.6.6"
  }
 },
 "nbformat": 4,
 "nbformat_minor": 2
}
